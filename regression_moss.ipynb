{
 "cells": [
  {
   "cell_type": "markdown",
   "metadata": {},
   "source": [
    "Your Jupyter Notebook must follow a structured format with clearly numbered second-level headings and reflection remarks after each section.\n",
    "\n",
    "Start your notebook professionally with:\n",
    "\n",
    "a single top-level title\n",
    "your name (or alias)\n",
    "the date\n",
    "a brief introduction that describes the problem and the dataset.\n",
    "Import the external Python libraries used (e.g., pandas, numpy, matplotlib, seaborn, sklearn)."
   ]
  },
  {
   "cell_type": "markdown",
   "metadata": {},
   "source": [
    "Section 1. Import and Inspect the Data\n"
   ]
  },
  {
   "cell_type": "code",
   "execution_count": null,
   "metadata": {},
   "outputs": [],
   "source": [
    "# 1.1 Load the dataset and display the first 10 rows.\n",
    "# 1.2 Check for missing values and display summary statistics."
   ]
  },
  {
   "cell_type": "markdown",
   "metadata": {},
   "source": [
    "Reflection 1: What do you notice about the dataset? Are there any data issues?"
   ]
  },
  {
   "cell_type": "markdown",
   "metadata": {},
   "source": [
    "Section 2. Data Exploration and Preparation\n"
   ]
  },
  {
   "cell_type": "code",
   "execution_count": null,
   "metadata": {},
   "outputs": [],
   "source": [
    "# 2.1 Explore data patterns and distributions\n",
    "''' Create histograms, boxplots, and count plots for categorical variables (as applicable).\n",
    "Identify patterns, outliers, and anomalies in feature distributions.\n",
    "Check for class imbalance in the target variable (as applicable).'''\n",
    "\n",
    "\n",
    "# 2.2 Handle missing values and clean data\n",
    "''' Impute or drop missing values (as applicable).\n",
    "Remove or transform outliers (as applicable).\n",
    "Convert categorical data to numerical format using encoding (as applicable).'''ArithmeticError\n",
    "\n",
    "# 2.3 Feature selection and engineering\n",
    "''' Create new features (as applicable).\n",
    "Transform or combine existing features to improve model performance (as applicable).\n",
    "Scale or normalize data (as applicable).'''\n",
    "\n"
   ]
  },
  {
   "cell_type": "markdown",
   "metadata": {},
   "source": [
    "Reflection 2: What patterns or anomalies do you see? Do any features stand out? What preprocessing steps were necessary to clean and improve the data? Did you create or modify any features to improve performance?"
   ]
  },
  {
   "cell_type": "markdown",
   "metadata": {},
   "source": [
    "## Section 3. Feature Selection and Justification"
   ]
  },
  {
   "cell_type": "code",
   "execution_count": null,
   "metadata": {},
   "outputs": [],
   "source": [
    "# 3.1 Choose features and target\n",
    "''' Select two or more input features (numerical for regression, numerical and/or categorical for classification)\n",
    "Select a target variable (as applicable)\n",
    "Regression: Continuous target variable (e.g., price, temperature).\n",
    "Classification: Categorical target variable (e.g., gender, species).\n",
    "Clustering: No target variable.\n",
    "Justify your selection with reasoning.'''\n",
    "\n",
    "\n",
    "# 3.2 Define X and y\n",
    "''' Assign input features to X\n",
    "Assign target variable to y (as applicable)'''\n",
    "\n"
   ]
  },
  {
   "cell_type": "markdown",
   "metadata": {},
   "source": [
    "Reflection 3: Why did you choose these features? How might they impact predictions or accuracy?"
   ]
  },
  {
   "cell_type": "markdown",
   "metadata": {},
   "source": [
    "## Section 4. Train a Model (Linear Regression)"
   ]
  },
  {
   "cell_type": "code",
   "execution_count": null,
   "metadata": {},
   "outputs": [],
   "source": [
    "# 4.1 Split the data into training and test sets using train_test_split (or StratifiedShuffleSplit if class imbalance is an issue).\n",
    "\n",
    "# 4.2 Train model using Scikit-Learn model.fit() method\n",
    "\n",
    "# 4.3 Evalulate performance, for example:\n",
    "''' Regression: R^2, MAE, RMSE (RMSE has been recently updated)\n",
    "Classification: Accuracy, Precision, Recall, F1-score, Confusion Matrix\n",
    "Clustering: Inertia, Silhouette Score'''\n",
    "\n"
   ]
  },
  {
   "cell_type": "markdown",
   "metadata": {},
   "source": [
    "Reflection 4: How well did the model perform? Any surprises in the results?"
   ]
  },
  {
   "cell_type": "markdown",
   "metadata": {},
   "source": [
    "## Section 5. Improve the Model or Try Alternates (Implement Pipelines)"
   ]
  },
  {
   "cell_type": "code",
   "execution_count": null,
   "metadata": {},
   "outputs": [],
   "source": [
    "# 5.1 Implement Pipeline 1: Imputer → StandardScaler → Linear Regression.\n",
    "# 5.2 Implement Pipeline 2: Imputer → Polynomial Features (degree=3) → StandardScaler → Linear Regression.\n",
    "# 5.3 Compare performance of all models across the same performance metrics"
   ]
  },
  {
   "cell_type": "markdown",
   "metadata": {},
   "source": [
    "Reflection 5: Which models performed better? How does scaling impact results?"
   ]
  },
  {
   "cell_type": "markdown",
   "metadata": {},
   "source": [
    "## Section 6. Final Thoughts & Insights"
   ]
  },
  {
   "cell_type": "code",
   "execution_count": null,
   "metadata": {},
   "outputs": [],
   "source": [
    "# 6.1 Summarize findings.\n",
    "\n",
    "# 6.2 Discuss challenges faced.\n",
    "\n",
    "# 6.3 If you had more time, what would you try next?"
   ]
  },
  {
   "cell_type": "markdown",
   "metadata": {},
   "source": [
    "Reflection 6: What did you learn from this project?"
   ]
  },
  {
   "cell_type": "markdown",
   "metadata": {},
   "source": [
    "Tasks to Complete the Assignment\n",
    "\n",
    "Create a GitHub repository named ml_regression_yourname.\n",
    "Upload your dataset to a data folder in the repository.\n",
    "Develop a Jupyter Notebook (regression_yourname.ipynb) structured as outlined above.\n",
    "Complete and write reflections for each section as you work.\n",
    "Write a README.md summarizing your project, dataset, and findings (see below).\n",
    "Review a classmate’s project and provide feedback in peer_review.md (see below)."
   ]
  }
 ],
 "metadata": {
  "kernelspec": {
   "display_name": ".venv",
   "language": "python",
   "name": "python3"
  },
  "language_info": {
   "name": "python",
   "version": "3.11.9"
  }
 },
 "nbformat": 4,
 "nbformat_minor": 2
}
